{
 "cells": [
  {
   "cell_type": "code",
   "execution_count": null,
   "id": "28c4fd8b-c472-4b2f-9b82-6a0b8940d59c",
   "metadata": {},
   "outputs": [],
   "source": [
    "import pandas as pd\n",
    "import numpy as np\n",
    "import matplotlib.pyplot as plt\n",
    "import seaborn as sns"
   ]
  },
  {
   "cell_type": "code",
   "execution_count": null,
   "id": "f293e007-7b58-47a8-8655-f3d0a251ca89",
   "metadata": {},
   "outputs": [],
   "source": [
    "df=pd.read_csv('Fraud.csv')"
   ]
  },
  {
   "cell_type": "code",
   "execution_count": null,
   "id": "9120f21a-2157-4708-b97d-aa019148329e",
   "metadata": {},
   "outputs": [],
   "source": [
    "df.columns"
   ]
  },
  {
   "cell_type": "code",
   "execution_count": null,
   "id": "4f9ca4a9-f9dd-43e5-8486-93e8149aed3b",
   "metadata": {},
   "outputs": [],
   "source": [
    "df.shape"
   ]
  },
  {
   "cell_type": "code",
   "execution_count": null,
   "id": "4c9298fe-c64e-4b93-870d-8686142308c2",
   "metadata": {},
   "outputs": [],
   "source": [
    "df.size"
   ]
  },
  {
   "cell_type": "code",
   "execution_count": null,
   "id": "71d60a0f-4889-4f79-ad89-92c2071f13b0",
   "metadata": {},
   "outputs": [],
   "source": [
    "df.head()"
   ]
  },
  {
   "cell_type": "code",
   "execution_count": null,
   "id": "494b7de3-ed4b-441a-abdd-703a635e8c72",
   "metadata": {},
   "outputs": [],
   "source": [
    "df.tail()"
   ]
  },
  {
   "cell_type": "code",
   "execution_count": null,
   "id": "efbdbef9-ad1b-40f7-b2e8-cee64c15e028",
   "metadata": {},
   "outputs": [],
   "source": [
    "df.sample(5)"
   ]
  },
  {
   "cell_type": "code",
   "execution_count": null,
   "id": "6903bb44-83f1-4ed7-8f72-ee2ed5692dc1",
   "metadata": {},
   "outputs": [],
   "source": [
    "df.dtypes"
   ]
  },
  {
   "cell_type": "code",
   "execution_count": null,
   "id": "f5449ad3-7b96-425d-a5b5-652c3367d1c0",
   "metadata": {},
   "outputs": [],
   "source": [
    "pd.set_option('display.float_format', lambda x: '%0.4f' % x)"
   ]
  },
  {
   "cell_type": "code",
   "execution_count": null,
   "id": "642bef23-e1bc-4cf1-a92c-1e754ec6c9d9",
   "metadata": {},
   "outputs": [],
   "source": [
    "round(df[['step', 'amount', 'oldbalanceOrg', 'newbalanceOrig','oldbalanceDest',\n",
    "                'newbalanceDest',]].describe().T,\n",
    "      2)"
   ]
  },
  {
   "cell_type": "code",
   "execution_count": null,
   "id": "6244fdb2-51be-49c9-a671-823fb275a01d",
   "metadata": {},
   "outputs": [],
   "source": [
    "df[['step', 'amount', 'oldbalanceOrg', 'newbalanceOrig','oldbalanceDest',\n",
    "                'newbalanceDest','isFraud',\n",
    "       'isFlaggedFraud']].corr()"
   ]
  },
  {
   "cell_type": "code",
   "execution_count": null,
   "id": "21a75696-789b-46cc-b576-dfe38e24a6f5",
   "metadata": {},
   "outputs": [],
   "source": [
    "df[df['amount']==0]"
   ]
  },
  {
   "cell_type": "code",
   "execution_count": null,
   "id": "5660f172-3c3b-4e85-b38e-c1499aebcbbe",
   "metadata": {},
   "outputs": [],
   "source": [
    "df[df['isFlaggedFraud']==1]"
   ]
  },
  {
   "cell_type": "code",
   "execution_count": null,
   "id": "218c9229-cfb9-4b5b-9d90-802dbb244ca7",
   "metadata": {},
   "outputs": [],
   "source": [
    "df[(df['amount']==df['oldbalanceOrg']) & (df['isFraud']==1)]"
   ]
  },
  {
   "cell_type": "code",
   "execution_count": null,
   "id": "a058ec18-6989-478d-b42d-8acb0555635d",
   "metadata": {},
   "outputs": [],
   "source": [
    "df.isnull().sum()"
   ]
  },
  {
   "cell_type": "code",
   "execution_count": null,
   "id": "73e88325-c537-412a-8d99-1f721bee372a",
   "metadata": {},
   "outputs": [],
   "source": [
    "df[df.duplicated()]"
   ]
  },
  {
   "cell_type": "code",
   "execution_count": null,
   "id": "c068b3a4-da70-47da-8338-8d87f117e28e",
   "metadata": {},
   "outputs": [],
   "source": [
    "df.duplicated().sum()"
   ]
  },
  {
   "cell_type": "code",
   "execution_count": null,
   "id": "6aef9198-134f-467f-8fa4-d3f6c252b86d",
   "metadata": {},
   "outputs": [],
   "source": [
    "df['isFraud'].value_counts()"
   ]
  },
  {
   "cell_type": "code",
   "execution_count": null,
   "id": "0863ede8-bab2-4b20-adc2-8d78866e1b58",
   "metadata": {},
   "outputs": [],
   "source": [
    "sns.histplot(x='step', data=df,hue='isFraud');"
   ]
  },
  {
   "cell_type": "code",
   "execution_count": null,
   "id": "ffd93fef-d8f6-4080-bd11-d38adcfbba17",
   "metadata": {},
   "outputs": [],
   "source": [
    "sns.rugplot(x='amount', data=df, height=.08, color='darkblue')"
   ]
  },
  {
   "cell_type": "code",
   "execution_count": null,
   "id": "2477e0dd-ed21-4356-98b9-918e11d3fbc8",
   "metadata": {},
   "outputs": [],
   "source": [
    "df['isFraud'].value_counts()"
   ]
  },
  {
   "cell_type": "code",
   "execution_count": null,
   "id": "1db5c994-9f92-4545-97e9-db14e36417c2",
   "metadata": {},
   "outputs": [],
   "source": [
    "sns.catplot(data=df, x=\"type\", y=\"isFraud\")"
   ]
  },
  {
   "cell_type": "code",
   "execution_count": null,
   "id": "3172caca-48d8-42a9-ad79-eed95d3217d2",
   "metadata": {},
   "outputs": [],
   "source": [
    "df.loc[(df['type']==\"CASH_OUT\") & (df['isFraud']==1)]"
   ]
  },
  {
   "cell_type": "code",
   "execution_count": null,
   "id": "e6de9594-0dfd-4cd8-9bac-89951c8ab2e9",
   "metadata": {},
   "outputs": [],
   "source": [
    "df.loc[(df['type']==\"TRANSFER\") & (df['isFraud']==1)]"
   ]
  },
  {
   "cell_type": "code",
   "execution_count": null,
   "id": "5baacb09-6911-4676-b9a9-aa238dba9fc9",
   "metadata": {},
   "outputs": [],
   "source": [
    "\n",
    "plt.pie(x = df['type'].value_counts(),\n",
    "       autopct='%.2f',labels=['CASH_OUT','PAYMENT','CASH_IN','TRANSFER','DEBIT'])\n",
    "plt.show()"
   ]
  },
  {
   "cell_type": "code",
   "execution_count": null,
   "id": "604157aa-e02c-44f2-ae4c-ce6610a490c9",
   "metadata": {},
   "outputs": [],
   "source": [
    "fig = plt.figure(figsize=(10,5))\n",
    "sns.boxplot(df)\n",
    "plt.show()"
   ]
  },
  {
   "cell_type": "code",
   "execution_count": null,
   "id": "db16b2e8-b05f-44e6-bede-92eb4753f20e",
   "metadata": {},
   "outputs": [],
   "source": [
    "per25=df['step'].quantile(0.25)\n",
    "per75=df['step'].quantile(0.75)\n",
    "iqr=per75-per25\n",
    "up_limit=per75+(1.5*iqr)\n",
    "low_limit=per25-(1.5*iqr)\n",
    "print(\"upper limit :- \",up_limit)\n",
    "print(\"upper limit :- \",low_limit)"
   ]
  },
  {
   "cell_type": "code",
   "execution_count": null,
   "id": "6887032d-6588-48ba-ae32-e9dd8026b24b",
   "metadata": {},
   "outputs": [],
   "source": [
    "df[df[\"step\"]>603]"
   ]
  },
  {
   "cell_type": "code",
   "execution_count": null,
   "id": "4d617665-5c83-4a9f-a6ce-756b4fa040b1",
   "metadata": {},
   "outputs": [],
   "source": [
    "sns.heatmap(df[['step', 'amount', 'oldbalanceOrg', 'newbalanceOrig','oldbalanceDest',\n",
    "                'newbalanceDest', 'isFraud','isFlaggedFraud']].corr(),\n",
    "            annot=True\n",
    "           )\n",
    "plt.show()"
   ]
  },
  {
   "cell_type": "code",
   "execution_count": null,
   "id": "da5e166a-edad-40a6-a0d6-fd97a83e5975",
   "metadata": {},
   "outputs": [],
   "source": [
    "df_numeric = df.select_dtypes(include=[np.number])\n",
    "corr_matrix = df_numeric.corr()[\"isFraud\"]"
   ]
  },
  {
   "cell_type": "code",
   "execution_count": null,
   "id": "164d9693-8095-4ab0-98c7-2be07ffaed7a",
   "metadata": {},
   "outputs": [],
   "source": [
    "df.corr()[\"isFraud\"]"
   ]
  },
  {
   "cell_type": "code",
   "execution_count": null,
   "id": "c64ef502-58f0-4222-8a22-62abe370221f",
   "metadata": {},
   "outputs": [],
   "source": [
    "def correlation(dataset,threshold):\n",
    "    \n",
    "    \"\"\" \n",
    "    used to store un_important column names\n",
    "    and set() type stores only unique values\n",
    "    so, that no duplicated column name will store.\n",
    "    \"\"\"\n",
    "    column_corr=set()\n",
    "    \n",
    "    # storing correlation matrix\n",
    "    corr_matrix=dataset.corr()\n",
    "    \n",
    "    for i in range (len(corr_matrix.columns)):\n",
    "        for j in range (i):\n",
    "            \n",
    "            # comparing corr. values with threshold\n",
    "            if corr_matrix.iloc[i,j]>threshold:\n",
    "                \n",
    "                # if true, then fateching column name\n",
    "                colname=corr_matrix.columns[i]\n",
    "                \n",
    "                # adding column name to column_corr variable.\n",
    "                column_corr.add(colname)\n",
    "    return column_corr"
   ]
  },
  {
   "cell_type": "code",
   "execution_count": null,
   "id": "29ba2f3e-b85f-47ca-b56d-b30430820ef1",
   "metadata": {},
   "outputs": [],
   "source": [
    "correlated_features=correlation(df,0.9)"
   ]
  },
  {
   "cell_type": "code",
   "execution_count": null,
   "id": "ed4969f0-a8df-4f90-89c3-8f5b868d8e54",
   "metadata": {},
   "outputs": [],
   "source": []
  }
 ],
 "metadata": {
  "kernelspec": {
   "display_name": "Python 3 (ipykernel)",
   "language": "python",
   "name": "python3"
  },
  "language_info": {
   "codemirror_mode": {
    "name": "ipython",
    "version": 3
   },
   "file_extension": ".py",
   "mimetype": "text/x-python",
   "name": "python",
   "nbconvert_exporter": "python",
   "pygments_lexer": "ipython3",
   "version": "3.8.10"
  }
 },
 "nbformat": 4,
 "nbformat_minor": 5
}
